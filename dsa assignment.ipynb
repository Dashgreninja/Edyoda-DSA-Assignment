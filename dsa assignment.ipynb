{
 "cells": [
  {
   "cell_type": "code",
   "execution_count": 15,
   "metadata": {},
   "outputs": [
    {
     "name": "stdout",
     "output_type": "stream",
     "text": [
      "Array =  [1, 2, 3, 4]\n",
      "Pairs whose sum is :  1\n",
      "no match found\n"
     ]
    }
   ],
   "source": [
    "# Question 1\n",
    "\n",
    "def find(array, len, summ):\n",
    "    print(\"Pairs whose sum is : \", summ)\n",
    "    for i in range(len):\n",
    "        for j in range(i, len):\n",
    "            if (array[i] + array[j]) == summ:\n",
    "                print(f\"[{array[i]}, {array[j]}]\")\n",
    "    print(\"no match found\")\n",
    "\n",
    "\n",
    "array = [int(item) for item in input(\"Enter the No.s in 1 2 3 ... format : \").split()]\n",
    "\n",
    "summ = int(input(\"Enter Sum : \"))\n",
    "\n",
    "print(\"Array = \", array)\n",
    "\n",
    "find(array, len(array), summ)"
   ]
  },
  {
   "cell_type": "code",
   "execution_count": 14,
   "metadata": {},
   "outputs": [
    {
     "name": "stdout",
     "output_type": "stream",
     "text": [
      "[1, 2, 3, 4, 5, 6]\n",
      "Reversed array is :\n",
      "[6, 5, 4, 3, 2, 1]\n"
     ]
    }
   ],
   "source": [
    "# Question 2\n",
    "\n",
    "def reverseList(array):\n",
    "    start = 0\n",
    "    end = len(array) - 1\n",
    "    while start < end:\n",
    "        array[start], array[end] = array[end], array[start]\n",
    "        start += 1\n",
    "        end -= 1\n",
    "\n",
    "array = [int(item) for item in input(\"Enter the No.s in 1 2 3 ... format : \").split()]\n",
    "print(array)\n",
    "reverseList(array)\n",
    "print(\"Reversed array is :\")\n",
    "print(array)\n"
   ]
  },
  {
   "cell_type": "code",
   "execution_count": 23,
   "metadata": {},
   "outputs": [
    {
     "name": "stdout",
     "output_type": "stream",
     "text": [
      "Strings are rotations of each other\n"
     ]
    }
   ],
   "source": [
    "# Question 3\n",
    "\n",
    "def Check_Rotations(string1, string2):\n",
    " \n",
    "    if len(string1) != len(string2):\n",
    "        return False\n",
    " \n",
    "    temp = string1 + string1\n",
    " \n",
    "    if ( temp.count(string2) > 0):\n",
    "        return True\n",
    "    else:\n",
    "        return False\n",
    "\n",
    "string1 = input(\"Enter String 1 : \")\n",
    "string2 = input(\"Enter String 2 : \")\n",
    " \n",
    "if Check_Rotations(string1, string2):\n",
    "    print(\"Strings are rotations of each other\")\n",
    "else:\n",
    "    print(\"Strings are not rotations of each other\")\n",
    " "
   ]
  },
  {
   "cell_type": "code",
   "execution_count": 27,
   "metadata": {},
   "outputs": [
    {
     "name": "stdout",
     "output_type": "stream",
     "text": [
      "No non-repeating character\n"
     ]
    }
   ],
   "source": [
    "# Question 4\n",
    "\n",
    "string = input(\"Enter String :\")\n",
    "flag = 0\n",
    "for i in string:\n",
    "    if string.count(i) == 1:\n",
    "        print(\"First non-repeating character is :\", i)\n",
    "        flag = 1\n",
    "        break\n",
    "if flag == 0:\n",
    "    print(\"No non-repeating character\")"
   ]
  },
  {
   "cell_type": "code",
   "execution_count": 2,
   "metadata": {},
   "outputs": [
    {
     "name": "stdout",
     "output_type": "stream",
     "text": [
      "Move disk 1 from location A to location C.\n",
      "Move disk 2 from location A to location B.\n",
      "Move disk 1 from location C to location B.\n",
      "Move disk 3 from location A to location C.\n",
      "Move disk 1 from location B to location A.\n",
      "Move disk 2 from location B to location C.\n",
      "Move disk 1 from location A to location C.\n",
      "Move disk 4 from location A to location B.\n",
      "Move disk 1 from location C to location B.\n",
      "Move disk 2 from location C to location A.\n",
      "Move disk 1 from location B to location A.\n",
      "Move disk 3 from location C to location B.\n",
      "Move disk 1 from location A to location C.\n",
      "Move disk 2 from location A to location B.\n",
      "Move disk 1 from location C to location B.\n",
      "Move disk 5 from location A to location C.\n",
      "Move disk 1 from location B to location A.\n",
      "Move disk 2 from location B to location C.\n",
      "Move disk 1 from location A to location C.\n",
      "Move disk 3 from location B to location A.\n",
      "Move disk 1 from location C to location B.\n",
      "Move disk 2 from location C to location A.\n",
      "Move disk 1 from location B to location A.\n",
      "Move disk 4 from location B to location C.\n",
      "Move disk 1 from location A to location C.\n",
      "Move disk 2 from location A to location B.\n",
      "Move disk 1 from location C to location B.\n",
      "Move disk 3 from location A to location C.\n",
      "Move disk 1 from location B to location A.\n",
      "Move disk 2 from location B to location C.\n",
      "Move disk 1 from location A to location C.\n"
     ]
    }
   ],
   "source": [
    "# Question 5\n",
    "\n",
    "def tower_of_hanoi(disks, source, auxiliary, target):\n",
    "    if disks == 1:\n",
    "        print('Move disk 1 from location {} to location {}.'.format(source, target))\n",
    "        return\n",
    " \n",
    "    tower_of_hanoi(disks - 1, source, target, auxiliary)\n",
    "    print('Move disk {} from location {} to location {}.'.format(disks, source, target))\n",
    "    tower_of_hanoi(disks - 1, auxiliary, source, target)\n",
    " \n",
    " \n",
    "disks = int(input('Enter number of disks: '))\n",
    "tower_of_hanoi(disks, 'A', 'B', 'C')"
   ]
  },
  {
   "cell_type": "code",
   "execution_count": 4,
   "metadata": {},
   "outputs": [
    {
     "name": "stdout",
     "output_type": "stream",
     "text": [
      "Prefix Expression :  +ab\n"
     ]
    }
   ],
   "source": [
    "# Question 6\n",
    "\n",
    "def is_operator(x):\n",
    "\n",
    "\tif x == \"+\":\n",
    "\t\treturn True\n",
    "\n",
    "\tif x == \"-\":\n",
    "\t\treturn True\n",
    "\n",
    "\tif x == \"/\":\n",
    "\t\treturn True\n",
    "\n",
    "\tif x == \"*\":\n",
    "\t\treturn True\n",
    "\n",
    "\treturn False\n",
    "\n",
    "def post_to_pre(post_exp):\n",
    "\n",
    "\ts = []\n",
    "\tlength = len(post_exp)\n",
    "\n",
    "\tfor i in range(length):\n",
    "\n",
    "\t\tif (is_operator(post_exp[i])):\n",
    "\n",
    "\t\t\top1 = s[-1]\n",
    "\t\t\ts.pop()\n",
    "\t\t\top2 = s[-1]\n",
    "\t\t\ts.pop()\n",
    "\n",
    "\t\t\ttemp = post_exp[i] + op2 + op1\n",
    "\t\t\ts.append(temp)\n",
    "\t\telse:\n",
    "\t\t\ts.append(post_exp[i])\n",
    "\n",
    "\t\n",
    "\tpre = \"\"\n",
    "\tfor i in s:\n",
    "\t\tpre += i\n",
    "\treturn pre\n",
    "\n",
    "\n",
    "\n",
    "post_exp = input(\"Enter Postfix Expression :\")\n",
    "print(\"Prefix Expression : \", post_to_pre(post_exp))\n"
   ]
  },
  {
   "cell_type": "code",
   "execution_count": 7,
   "metadata": {},
   "outputs": [
    {
     "name": "stdout",
     "output_type": "stream",
     "text": [
      "Infix Expression :  ((A-(B/C))*((A/K)-L))\n"
     ]
    }
   ],
   "source": [
    "# Question 7\n",
    "\n",
    "def is_operator(x):\n",
    "\n",
    "\tif x == \"+\":\n",
    "\t\treturn True\n",
    "\n",
    "\tif x == \"-\":\n",
    "\t\treturn True\n",
    "\n",
    "\tif x == \"/\":\n",
    "\t\treturn True\n",
    "\n",
    "\tif x == \"*\":\n",
    "\t\treturn True\n",
    "\n",
    "\treturn False\n",
    "\n",
    "def prefix_to_infix(prefix_exp):\n",
    "    stack = []\n",
    "     \n",
    "    i = len(prefix_exp) - 1\n",
    "    while i >= 0:\n",
    "        if not is_operator(prefix_exp[i]):\n",
    "             \n",
    "            stack.append(prefix_exp[i])\n",
    "\n",
    "        else:\n",
    "           \n",
    "            str = \"(\" + stack.pop() + prefix_exp[i] + stack.pop() + \")\"\n",
    "            stack.append(str)\n",
    "        \n",
    "        i-=1\n",
    "     \n",
    "    return stack.pop()\n",
    "\n",
    "prefix_exp = input(\"Enter Prefix Expression :\")\n",
    "print(\"Infix Expression : \", prefix_to_infix(prefix_exp))"
   ]
  },
  {
   "cell_type": "code",
   "execution_count": 12,
   "metadata": {},
   "outputs": [
    {
     "name": "stdout",
     "output_type": "stream",
     "text": [
      "closed\n"
     ]
    }
   ],
   "source": [
    "# Question 8\n",
    "\n",
    "def are_brackets_closed(exp):\n",
    "\tstack = []\n",
    "\n",
    "\tfor char in exp:\n",
    "\t\tif char in [\"(\", \"{\", \"[\"]:\n",
    "      \n",
    "\t\t\tstack.append(char)\n",
    "\t\telse:\n",
    "\n",
    "\t\t\tif not stack:\n",
    "\t\t\t\treturn False\n",
    "\t\t\tcurrent_char = stack.pop()\n",
    "\t\t\tif current_char == '(':\n",
    "\t\t\t\tif char != \")\":\n",
    "\t\t\t\t\treturn False\n",
    "\t\t\tif current_char == '{':\n",
    "\t\t\t\tif char != \"}\":\n",
    "\t\t\t\t\treturn False\n",
    "\t\t\tif current_char == '[':\n",
    "\t\t\t\tif char != \"]\":\n",
    "\t\t\t\t\treturn False\n",
    "\n",
    "\tif stack:\n",
    "\t\treturn False\n",
    "\treturn True\n",
    "\n",
    "\n",
    "exp = input(\"Enter brackets string : \")\n",
    "\n",
    "if are_brackets_closed(exp):\n",
    "\tprint(\"closed\")\n",
    "else:\n",
    "\tprint(\"not closed\")\n",
    "\n"
   ]
  },
  {
   "cell_type": "code",
   "execution_count": 30,
   "metadata": {},
   "outputs": [
    {
     "name": "stdout",
     "output_type": "stream",
     "text": [
      "Original stack : \n",
      "\n",
      "1\n",
      "2\n",
      "3\n",
      "4\n",
      "5\n",
      "\n",
      "Reversed stack :\n",
      "\n",
      "5\n",
      "4\n",
      "3\n",
      "2\n",
      "1\n"
     ]
    }
   ],
   "source": [
    "# Question 9\n",
    "\n",
    "class Node:\n",
    "\t\n",
    "\tdef __init__(self, data, next):\n",
    "\t\tself.data = data\n",
    "\t\tself.next = next\n",
    "\n",
    "class Stack:\n",
    "    def __init__(self):\n",
    "        self.head = None\n",
    "    \n",
    "    def push(self, new_data):\n",
    "        new_node = Node(new_data, self.head)\n",
    "        self.head = new_node\n",
    "\t\n",
    "    def reverseList(self):\n",
    "        prev = None\n",
    "        current = self.head\n",
    "        while current is not None:\n",
    "            next = current.next\n",
    "            current.next = prev\n",
    "            prev = current\n",
    "            current = next\n",
    "            self.head = prev\n",
    "        return self.head\n",
    "    \n",
    "    def printList(self):\n",
    "        curr = self.head\n",
    "        while curr:\n",
    "            print(curr.data)\n",
    "            curr = curr.next\n",
    "\n",
    "if __name__ == \"__main__\":\n",
    "    \n",
    "    stack = Stack()\n",
    "    stack.push(5)\n",
    "    stack.push(4)\n",
    "    stack.push(3)\n",
    "    stack.push(2)\n",
    "    stack.push(1)\n",
    "    print(\"Original stack : \\n\")\n",
    "    stack.printList()\n",
    "    stack.reverseList()\n",
    "    print(\"\\nReversed stack :\\n\")\n",
    "    stack.printList()\n"
   ]
  },
  {
   "cell_type": "code",
   "execution_count": 42,
   "metadata": {},
   "outputs": [
    {
     "name": "stdout",
     "output_type": "stream",
     "text": [
      "Stack is : \n",
      "17\n",
      "22\n",
      "13\n",
      "14\n",
      "15\n",
      "Minimum element in Stack: 13"
     ]
    }
   ],
   "source": [
    "#Question 10\n",
    "\n",
    "class Node:\n",
    "      \n",
    "    def __init__(self):\n",
    "        self.data = None\n",
    "        self.next = None\n",
    "  \n",
    "class Stack:\n",
    "    def __init__(self):\n",
    "        self.head = None\n",
    "    \n",
    " \n",
    "    def smallestElement(self): \n",
    "  \n",
    "        min = 32767\n",
    " \n",
    "        while (self.head != None) :\n",
    "      \n",
    "            if (min > self.head.data) :\n",
    "                min = self.head.data \n",
    "            self.head = self.head.next\n",
    "      \n",
    "        return min\n",
    "\n",
    "    def push(self,data) :\n",
    "    \n",
    "        newNode = Node() \n",
    "    \n",
    "        newNode.data = data \n",
    "\n",
    "        newNode.next = (self.head) \n",
    "    \n",
    "        (self.head) = newNode \n",
    "\n",
    "    def printList(self) :\n",
    "    \n",
    "        curr = self.head\n",
    "        while curr:\n",
    "            print(curr.data)\n",
    "            curr = curr.next\n",
    "        \n",
    "    \n",
    "stack = Stack()\n",
    "stack.push( 15) \n",
    "stack.push( 14) \n",
    "stack.push( 13) \n",
    "stack.push( 22) \n",
    "stack.push( 17) \n",
    "print(\"Stack is : \") \n",
    "stack.printList() \n",
    "print(\"Minimum element in Stack: \",end=\"\") \n",
    "print(stack.smallestElement(),end=\"\") "
   ]
  },
  {
   "cell_type": "code",
   "execution_count": null,
   "metadata": {},
   "outputs": [],
   "source": []
  }
 ],
 "metadata": {
  "kernelspec": {
   "display_name": "Python 3",
   "language": "python",
   "name": "python3"
  },
  "language_info": {
   "codemirror_mode": {
    "name": "ipython",
    "version": 3
   },
   "file_extension": ".py",
   "mimetype": "text/x-python",
   "name": "python",
   "nbconvert_exporter": "python",
   "pygments_lexer": "ipython3",
   "version": "3.11.2"
  },
  "orig_nbformat": 4
 },
 "nbformat": 4,
 "nbformat_minor": 2
}
